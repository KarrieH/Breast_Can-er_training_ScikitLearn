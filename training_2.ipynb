{
 "cells": [
  {
   "cell_type": "markdown",
   "metadata": {},
   "source": [
    "# Алгоритмы машинного обучения на датасете Breast cancer"
   ]
  },
  {
   "cell_type": "code",
   "execution_count": 2,
   "metadata": {},
   "outputs": [],
   "source": [
    "from sklearn.datasets import load_breast_cancer\n",
    "\n",
    "from sklearn.neighbors import KNeighborsClassifier\n",
    "from sklearn.linear_model import LogisticRegression\n",
    "from sklearn.tree import DecisionTreeClassifier\n",
    "from sklearn.ensemble import RandomForestClassifier\n",
    "from sklearn.neural_network import MLPClassifier\n",
    "from sklearn.svm import SVC\n",
    "\n",
    "from sklearn.model_selection import train_test_split\n",
    "from sklearn.preprocessing import StandardScaler\n",
    "\n",
    "from sklearn.tree import export_graphviz\n",
    "import matplotlib.pylab as plt\n",
    "\n",
    "import numpy as np\n",
    "import graphviz\n",
    "%matplotlib inline\n",
    "\n",
    "RAND = 42\n",
    "random_state = RAND\n",
    "\n",
    "from sklearn.model_selection import cross_val_score, KFold"
   ]
  },
  {
   "cell_type": "code",
   "execution_count": 3,
   "metadata": {},
   "outputs": [],
   "source": [
    "cancer = load_breast_cancer()"
   ]
  },
  {
   "cell_type": "code",
   "execution_count": 4,
   "metadata": {},
   "outputs": [
    {
     "name": "stdout",
     "output_type": "stream",
     "text": [
      "['mean radius' 'mean texture' 'mean perimeter' 'mean area'\n",
      " 'mean smoothness' 'mean compactness' 'mean concavity'\n",
      " 'mean concave points' 'mean symmetry' 'mean fractal dimension'\n",
      " 'radius error' 'texture error' 'perimeter error' 'area error'\n",
      " 'smoothness error' 'compactness error' 'concavity error'\n",
      " 'concave points error' 'symmetry error' 'fractal dimension error'\n",
      " 'worst radius' 'worst texture' 'worst perimeter' 'worst area'\n",
      " 'worst smoothness' 'worst compactness' 'worst concavity'\n",
      " 'worst concave points' 'worst symmetry' 'worst fractal dimension']\n"
     ]
    }
   ],
   "source": [
    "print(cancer.feature_names)"
   ]
  },
  {
   "cell_type": "code",
   "execution_count": 5,
   "metadata": {},
   "outputs": [
    {
     "name": "stdout",
     "output_type": "stream",
     "text": [
      "['malignant' 'benign']\n"
     ]
    }
   ],
   "source": [
    "print(cancer.target_names)"
   ]
  },
  {
   "cell_type": "code",
   "execution_count": 6,
   "metadata": {},
   "outputs": [
    {
     "data": {
      "text/plain": [
       "array([[1.799e+01, 1.038e+01, 1.228e+02, ..., 2.654e-01, 4.601e-01,\n",
       "        1.189e-01],\n",
       "       [2.057e+01, 1.777e+01, 1.329e+02, ..., 1.860e-01, 2.750e-01,\n",
       "        8.902e-02],\n",
       "       [1.969e+01, 2.125e+01, 1.300e+02, ..., 2.430e-01, 3.613e-01,\n",
       "        8.758e-02],\n",
       "       ...,\n",
       "       [1.660e+01, 2.808e+01, 1.083e+02, ..., 1.418e-01, 2.218e-01,\n",
       "        7.820e-02],\n",
       "       [2.060e+01, 2.933e+01, 1.401e+02, ..., 2.650e-01, 4.087e-01,\n",
       "        1.240e-01],\n",
       "       [7.760e+00, 2.454e+01, 4.792e+01, ..., 0.000e+00, 2.871e-01,\n",
       "        7.039e-02]])"
      ]
     },
     "execution_count": 6,
     "metadata": {},
     "output_type": "execute_result"
    }
   ],
   "source": [
    "cancer.data"
   ]
  },
  {
   "cell_type": "code",
   "execution_count": 7,
   "metadata": {},
   "outputs": [
    {
     "data": {
      "text/plain": [
       "numpy.ndarray"
      ]
     },
     "execution_count": 7,
     "metadata": {},
     "output_type": "execute_result"
    }
   ],
   "source": [
    "type(cancer.data)"
   ]
  },
  {
   "cell_type": "code",
   "execution_count": 8,
   "metadata": {},
   "outputs": [
    {
     "data": {
      "text/plain": [
       "(569, 30)"
      ]
     },
     "execution_count": 8,
     "metadata": {},
     "output_type": "execute_result"
    }
   ],
   "source": [
    "cancer.data.shape"
   ]
  },
  {
   "cell_type": "markdown",
   "metadata": {},
   "source": [
    "# Метод k ближайших соседей"
   ]
  },
  {
   "cell_type": "code",
   "execution_count": 9,
   "metadata": {},
   "outputs": [],
   "source": [
    "X_train, X_test, y_train, y_test = train_test_split(cancer.data, cancer.target, \n",
    "                                                    stratify = cancer.target, random_state = RAND)"
   ]
  },
  {
   "cell_type": "code",
   "execution_count": 10,
   "metadata": {},
   "outputs": [
    {
     "data": {
      "text/plain": [
       "Text(0.5, 1.0, 'Правильность при разбиении данных на тестовый и тренировочный наборы')"
      ]
     },
     "execution_count": 10,
     "metadata": {},
     "output_type": "execute_result"
    },
    {
     "data": {
      "image/png": "[encoded data removed]",
      "text/plain": [
       "<Figure size 432x288 with 1 Axes>"
      ]
     },
     "metadata": {},
     "output_type": "display_data"
    }
   ],
   "source": [
    "training_accuracy = []\n",
    "test_accuracy = []\n",
    "\n",
    "# попробуем запустить Метод ближайших соседей при различных значениях параметра k - кол-во ближайших соседей от 1 до 14\n",
    "neighbors_setting = range(1,15) \n",
    "\n",
    "for n_neighbors in neighbors_setting:\n",
    "    knn = KNeighborsClassifier(n_neighbors = n_neighbors)\n",
    "    knn.fit(X_train,y_train)\n",
    "    training_accuracy.append(knn.score(X_train,y_train))\n",
    "    test_accuracy.append(knn.score(X_test,y_test))\n",
    "    \n",
    "plt.plot(neighbors_setting,training_accuracy, label = 'Правильность на тренировочном наборе')\n",
    "plt.plot(neighbors_setting,test_accuracy, label = 'Правильность на тестовом наборе')\n",
    "plt.ylabel('Правильность')\n",
    "plt.xlabel('Количество соседей')\n",
    "plt.legend()\n",
    "plt.title('Правильность при разбиении данных на тестовый и тренировочный наборы')"
   ]
  },
  {
   "cell_type": "code",
   "execution_count": 11,
   "metadata": {},
   "outputs": [
    {
     "name": "stdout",
     "output_type": "stream",
     "text": [
      "Правильность на тренировочном наборе, при k = 8: 0.946\n",
      "Правильность на тестовом наборе, при k = 8: 0.944\n"
     ]
    }
   ],
   "source": [
    "# при k = 7,8 видно, что модель достигает наибольшей точности \n",
    "\n",
    "print ('Правильность на тренировочном наборе, при k = 8: {:.3f}'.format(training_accuracy[7]))\n",
    "print ('Правильность на тестовом наборе, при k = 8: {:.3f}'.format(test_accuracy[7]))"
   ]
  },
  {
   "cell_type": "code",
   "execution_count": 12,
   "metadata": {},
   "outputs": [
    {
     "name": "stdout",
     "output_type": "stream",
     "text": [
      "Правильность на тренировочном наборе, при k = 4: 0.946\n",
      "Правильность на тестовом наборе, при k = 4: 0.916\n"
     ]
    }
   ],
   "source": [
    "# проверим точность при k=4 (при которой остигается самая минимальная точность на графке)\n",
    "\n",
    "print ('Правильность на тренировочном наборе, при k = 4: {:.3f}'.format(training_accuracy[3]))\n",
    "print ('Правильность на тестовом наборе, при k = 4: {:.3f}'.format(test_accuracy[3]))"
   ]
  },
  {
   "cell_type": "code",
   "execution_count": 14,
   "metadata": {},
   "outputs": [
    {
     "name": "stdout",
     "output_type": "stream",
     "text": [
      "Размер обучающего набора: 319\n",
      "размер проверочного набора:107\n",
      "размер тестового набора: 143\n",
      "\n"
     ]
    }
   ],
   "source": [
    "# разбиваем данные на обучающий + проверочный набор и тестовый набор\n",
    "\n",
    "X_trainval, X_test, y_trainval, y_test = train_test_split(cancer.data, cancer.target, \n",
    "                                                    stratify = cancer.target, random_state = RAND)\n",
    "# разбиваем обучающий+проверочный набор на обучающий и проверочный наборы\n",
    "X_train, X_valid, y_train, y_valid = train_test_split(X_trainval, y_trainval, random_state = RAND)\n",
    "print(\"Размер обучающего набора: {}\\nразмер проверочного набора:\"\n",
    "      \"{}\\nразмер тестового набора: {}\\n\".format(X_train.shape[0], X_valid.shape[0], X_test.shape[0]))"
   ]
  },
  {
   "cell_type": "markdown",
   "metadata": {},
   "source": [
    "### Кросс - валидация"
   ]
  },
  {
   "cell_type": "code",
   "execution_count": 223,
   "metadata": {},
   "outputs": [
    {
     "data": {
      "text/plain": [
       "Text(0.5, 1.0, 'Правильность при разбиении данных на обучающий, проверочный и тестовый наборы')"
      ]
     },
     "execution_count": 223,
     "metadata": {},
     "output_type": "execute_result"
    },
    {
     "data": {
      "image/png": "[encoded data removed]",
      "text/plain": [
       "<Figure size 432x288 with 1 Axes>"
      ]
     },
     "metadata": {},
     "output_type": "display_data"
    }
   ],
   "source": [
    "# ищем параметр k через график при перекрестной проверке\n",
    "kfold = KFold(n_splits=5, random_state=42, shuffle=True)\n",
    "scores = []\n",
    "\n",
    "for n_neighbors in neighbors_setting:\n",
    "    knn = KNeighborsClassifier(n_neighbors = n_neighbors)\n",
    "    scor = cross_val_score(knn,X_trainval, y_trainval, cv = kfold)\n",
    "    scores.append(np.mean(scor))\n",
    "\n",
    "plt.plot(neighbors_setting,training_accuracy, label = 'Правильность на тренировочном наборе')\n",
    "plt.plot(neighbors_setting,test_accuracy, label = 'Правильность на тестовом наборе')    \n",
    "plt.plot(neighbors_setting, scores, label = 'Правильность на тренировочном наборе')\n",
    "plt.ylabel('Правильность')\n",
    "plt.xlabel('Количество соседей')\n",
    "plt.legend()  \n",
    "plt.title('Правильность при разбиении данных на обучающий, проверочный и тестовый наборы')"
   ]
  },
  {
   "cell_type": "code",
   "execution_count": 16,
   "metadata": {},
   "outputs": [
    {
     "name": "stdout",
     "output_type": "stream",
     "text": [
      "Правильность на тестовом наборе, при k = 4: 0.916\n"
     ]
    }
   ],
   "source": [
    "# при k=4 достигается наибольшая правильность\n",
    "knn = KNeighborsClassifier(n_neighbors = 4)\n",
    "knn.fit(X_trainval, y_trainval)\n",
    "knn_test_score = knn.score(X_test,y_test)    \n",
    "print(\"Правильность на тестовом наборе, при k = 4: {:.3f}\".format(knn_test_score))    "
   ]
  },
  {
   "cell_type": "code",
   "execution_count": 17,
   "metadata": {},
   "outputs": [],
   "source": [
    "# проверка правильности через разбиение данных на обучающий, проверочный, тестовый\n",
    "\n",
    "X_trainval, X_test, y_trainval, y_test = train_test_split(cancer.data, cancer.target, \n",
    "                                                    stratify = cancer.target, random_state = RAND)\n",
    "# разбиваем обучающий+проверочный набор на обучающий и проверочный наборы\n",
    "X_train, X_valid, y_train, y_valid = train_test_split(X_trainval, y_trainval, random_state = RAND)\n",
    "\n",
    "\n",
    "best_score = 0\n",
    "\n",
    "for n_neighbors in neighbors_setting:\n",
    "    knn = KNeighborsClassifier(n_neighbors = n_neighbors)\n",
    "    knn.fit(X_train,y_train)\n",
    "    score = knn.score(X_valid,y_valid)\n",
    "    if score > best_score:\n",
    "        best_score = score\n",
    "        best_parameters = {'n_neighbors': n_neighbors}"
   ]
  },
  {
   "cell_type": "code",
   "execution_count": 18,
   "metadata": {},
   "outputs": [
    {
     "data": {
      "text/plain": [
       "{'n_neighbors': 4}"
      ]
     },
     "execution_count": 18,
     "metadata": {},
     "output_type": "execute_result"
    }
   ],
   "source": [
    "best_parameters"
   ]
  },
  {
   "cell_type": "code",
   "execution_count": 19,
   "metadata": {},
   "outputs": [
    {
     "name": "stdout",
     "output_type": "stream",
     "text": [
      "Лучшее значение правильности на проверочном наборе: 0.972\n",
      "Наилучшие значения параметров:  {'n_neighbors': 4}\n",
      "Правильность на тестовом наборе с наилучшими параметрами: 0.916\n"
     ]
    }
   ],
   "source": [
    "# заново строим модель на наборе, полученном в результате объединения обучающих\n",
    "# и проверочных данных, оцениваем качество модели на тестовом наборе\n",
    "\n",
    "knn = KNeighborsClassifier(**best_parameters)\n",
    "knn.fit(X_trainval, y_trainval)\n",
    "test_score = knn.score(X_test, y_test)\n",
    "print(\"Лучшее значение правильности на проверочном наборе: {:.3f}\".format(best_score))\n",
    "print(\"Наилучшие значения параметров: \", best_parameters)\n",
    "print(\"Правильность на тестовом наборе с наилучшими параметрами: {:.3f}\".format(test_score))"
   ]
  },
  {
   "cell_type": "markdown",
   "metadata": {},
   "source": [
    "### F1 мера, precision, recall"
   ]
  },
  {
   "cell_type": "code",
   "execution_count": 20,
   "metadata": {},
   "outputs": [],
   "source": [
    "from sklearn.metrics import f1_score, precision_score, recall_score\n",
    "from sklearn.metrics import roc_curve, roc_auc_score\n",
    "from sklearn.metrics import roc_auc_score"
   ]
  },
  {
   "cell_type": "code",
   "execution_count": 21,
   "metadata": {},
   "outputs": [
    {
     "name": "stdout",
     "output_type": "stream",
     "text": [
      "f1 мера = 0.93\n",
      "Точность = 0.94\n",
      "Полнота = 0.92\n",
      "\n"
     ]
    }
   ],
   "source": [
    "knn_pred = knn.predict(X_test)\n",
    "\n",
    "print('f1 мера = {:.2f}'.format(f1_score(y_test,knn_pred)))\n",
    "print ('Точность = {:.2f}'.format(precision_score(y_test,knn_pred)))\n",
    "print ('Полнота = {:.2f}\\n'.format(recall_score(y_test,knn_pred)))"
   ]
  },
  {
   "cell_type": "markdown",
   "metadata": {},
   "source": [
    "### ROC - AUC"
   ]
  },
  {
   "cell_type": "code",
   "execution_count": 23,
   "metadata": {},
   "outputs": [
    {
     "name": "stdout",
     "output_type": "stream",
     "text": [
      "AUC для метода k ближайших соседей = 0.963\n"
     ]
    },
    {
     "data": {
      "image/png": "[encoded data removed]",
      "text/plain": [
       "<Figure size 432x288 with 1 Axes>"
      ]
     },
     "metadata": {},
     "output_type": "display_data"
    }
   ],
   "source": [
    "fpr_knn, tpr_knn, thresholds_knn = roc_curve(y_test, knn.predict_proba(X_test)[:,1])\n",
    "plt.plot(fpr_knn, tpr_knn)\n",
    "plt.xlabel('FPR')\n",
    "plt.ylabel('TPR (полнота)')\n",
    "plt.title('ROC-кривая для метода k ближайших соседей')\n",
    "\n",
    "\n",
    "knn_auc = roc_auc_score(y_test,knn.predict_proba(X_test)[:,1])\n",
    "print(\"AUC для метода k ближайших соседей = {:.3f}\".format(knn_auc))"
   ]
  },
  {
   "cell_type": "markdown",
   "metadata": {},
   "source": [
    "# Логистическая регрессия"
   ]
  },
  {
   "cell_type": "code",
   "execution_count": 24,
   "metadata": {},
   "outputs": [
    {
     "name": "stdout",
     "output_type": "stream",
     "text": [
      "Размер обучающего набора: 426\n",
      "размер тестового набора: 143\n",
      "\n",
      "Правильность на тренировочном наборе: 0.953\n",
      "Правильность на тестовом наборе: 0.958\n"
     ]
    }
   ],
   "source": [
    "X_train, X_test, y_train, y_test = train_test_split(cancer.data, cancer.target, \n",
    "                                                    stratify = cancer.target, random_state = RAND)\n",
    "\n",
    "\n",
    "log_reg = LogisticRegression()\n",
    "log_reg.fit(X_train,y_train)\n",
    "\n",
    "print(\"Размер обучающего набора: {}\\nразмер тестового набора: {}\\n\".format(X_train.shape[0], X_test.shape[0]))\n",
    "print ('Правильность на тренировочном наборе: {:.3f}'.format(log_reg.score(X_train,y_train)))\n",
    "print ('Правильность на тестовом наборе: {:.3f}'.format(log_reg.score(X_test,y_test)))"
   ]
  },
  {
   "cell_type": "code",
   "execution_count": 25,
   "metadata": {},
   "outputs": [
    {
     "name": "stdout",
     "output_type": "stream",
     "text": [
      "Размер обучающего набора: 319\n",
      "размер проверочного набора:107\n",
      "размер тестового набора: 143\n",
      "\n"
     ]
    }
   ],
   "source": [
    "X_trainval, X_test, y_trainval, y_test = train_test_split(cancer.data, cancer.target, \n",
    "                                                    stratify = cancer.target, random_state = RAND)\n",
    "# разбиваем обучающий+проверочный набор на обучающий и проверочный наборы\n",
    "X_train, X_valid, y_train, y_valid = train_test_split(X_trainval, y_trainval, random_state = RAND)\n",
    "print(\"Размер обучающего набора: {}\\nразмер проверочного набора: \"\n",
    "      \"{}\\nразмер тестового набора: {}\\n\".format(X_train.shape[0], X_valid.shape[0], X_test.shape[0]))"
   ]
  },
  {
   "cell_type": "code",
   "execution_count": 26,
   "metadata": {},
   "outputs": [
    {
     "data": {
      "text/plain": [
       "1.0"
      ]
     },
     "execution_count": 26,
     "metadata": {},
     "output_type": "execute_result"
    }
   ],
   "source": [
    "log_reg.C"
   ]
  },
  {
   "cell_type": "markdown",
   "metadata": {},
   "source": [
    "### Кросс - валидация"
   ]
  },
  {
   "cell_type": "code",
   "execution_count": 27,
   "metadata": {},
   "outputs": [
    {
     "name": "stdout",
     "output_type": "stream",
     "text": [
      "При C = 0.01 правильность при перекрестной проверке = 0.929\n",
      "При C = 1.0 правильность при перекрестной проверке = 0.951\n",
      "При C = 100 правильность при перекрестной проверке = 0.962\n"
     ]
    }
   ],
   "source": [
    "# По умолчанию параметр С, отвечающий за регуляризацию модели, низкий и равен 1. \n",
    "# Низкие значения параметра С задают МЕНЬШУЮ(?) регуляризацию модели.  #стр 73\n",
    "# Попробуем изменить С парамет\n",
    "\n",
    "C = [0.01, 1.0, 100]\n",
    "\n",
    "kfold = KFold(n_splits=5, random_state=42, shuffle=True)\n",
    "\n",
    "\n",
    "for c in C:\n",
    "    log_reg = LogisticRegression(C=c)\n",
    "    scor = cross_val_score(log_reg,X_trainval, y_trainval, cv = kfold)\n",
    "    print('При C = {} правильность при перекрестной проверке = {:.3f}'.format(c,np.mean(scor)))\n",
    "\n",
    "# Результат при перекрестной проверке чуть ниже    \n",
    "    \n",
    "# Значение по умолчанию C=1 обеспечивает неплохое качество модели,\n",
    "# правильность при перекрестной проверке составляет 95%. \n",
    "\n",
    "# При увеличении С мы получили более сложную модель, которая дает более точные результаты. \n",
    "# Однако, нельзя утверждать, что модель не переобучена."
   ]
  },
  {
   "cell_type": "code",
   "execution_count": 28,
   "metadata": {},
   "outputs": [],
   "source": [
    "X_trainval, X_test, y_trainval, y_test = train_test_split(cancer.data, cancer.target, \n",
    "                                                    stratify = cancer.target, random_state = RAND)\n",
    "X_train, X_valid, y_train, y_valid = train_test_split(X_trainval, y_trainval, random_state = RAND)\n",
    "\n",
    "C = [0.01, 1.0, 100]\n",
    "best_score = 0\n",
    "\n",
    "for c in C:\n",
    "    log_reg = LogisticRegression(C=c)\n",
    "    log_reg.fit(X_train,y_train)\n",
    "    score = log_reg.score(X_valid,y_valid)\n",
    "    if score > best_score:\n",
    "        best_score = score\n",
    "        best_parameters = {'C': c}"
   ]
  },
  {
   "cell_type": "code",
   "execution_count": 29,
   "metadata": {},
   "outputs": [
    {
     "data": {
      "text/plain": [
       "{'C': 1.0}"
      ]
     },
     "execution_count": 29,
     "metadata": {},
     "output_type": "execute_result"
    }
   ],
   "source": [
    "best_parameters "
   ]
  },
  {
   "cell_type": "code",
   "execution_count": 30,
   "metadata": {},
   "outputs": [
    {
     "name": "stdout",
     "output_type": "stream",
     "text": [
      "Лучшее значение правильности на проверочном наборе: 0.991\n",
      "Наилучшие значения параметров:  {'C': 1.0}\n",
      "Правильность на тестовом наборе с наилучшими параметрами: 0.916\n"
     ]
    }
   ],
   "source": [
    "# Обучим модель на лучшем параметре и проверим правильность на тестовом наборе\n",
    "\n",
    "log_reg = LogisticRegression(**best_parameters)\n",
    "log_reg.fit(X_trainval, y_trainval)\n",
    "test_score = knn.score(X_test, y_test)\n",
    "print(\"Лучшее значение правильности на проверочном наборе: {:.3f}\".format(best_score))\n",
    "print(\"Наилучшие значения параметров: \", best_parameters)\n",
    "print(\"Правильность на тестовом наборе с наилучшими параметрами: {:.3f}\".format(test_score))\n",
    "    \n",
    "# правильность на тестовом наборе снизилась по сравнению с перекрестной проверкой"
   ]
  },
  {
   "cell_type": "markdown",
   "metadata": {},
   "source": [
    "### F1 мера, precision, recall"
   ]
  },
  {
   "cell_type": "code",
   "execution_count": 31,
   "metadata": {},
   "outputs": [
    {
     "name": "stdout",
     "output_type": "stream",
     "text": [
      "f1 мера = 0.97\n",
      "Точность = 0.95\n",
      "Полнота = 0.99\n",
      "\n"
     ]
    }
   ],
   "source": [
    "pred_logreg = log_reg.predict(X_test)\n",
    "print('f1 мера = {:.2f}'.format(f1_score(y_test,pred_logreg)))\n",
    "print ('Точность = {:.2f}'.format(precision_score(y_test,pred_logreg)))\n",
    "print ('Полнота = {:.2f}\\n'.format(recall_score(y_test,pred_logreg)))\n",
    "\n",
    "# Почти все точки (99%), отнесенные к 1 классу, были определены моделью верно."
   ]
  },
  {
   "cell_type": "code",
   "execution_count": 32,
   "metadata": {},
   "outputs": [
    {
     "name": "stdout",
     "output_type": "stream",
     "text": [
      "             precision    recall  f1-score   support\n",
      "\n",
      "          0       0.98      0.91      0.94        53\n",
      "          1       0.95      0.99      0.97        90\n",
      "\n",
      "avg / total       0.96      0.96      0.96       143\n",
      "\n"
     ]
    }
   ],
   "source": [
    "from sklearn.metrics import  classification_report\n",
    "\n",
    "print(classification_report(y_test, pred_logreg))\n",
    "\n",
    "# Из данных показателе можно сделать вывод, что модель хорошо работает на тестовых данных, \n",
    "# выделив общую закономерность и правильно относя точки к классам."
   ]
  },
  {
   "cell_type": "markdown",
   "metadata": {},
   "source": [
    "### ROC - AUC"
   ]
  },
  {
   "cell_type": "code",
   "execution_count": 33,
   "metadata": {},
   "outputs": [],
   "source": [
    "fpr, tpr, thresholds = roc_curve(y_test, log_reg.decision_function(X_test))"
   ]
  },
  {
   "cell_type": "code",
   "execution_count": 34,
   "metadata": {},
   "outputs": [
    {
     "data": {
      "text/plain": [
       "Text(0.5, 1.0, 'ROC-кривая для логистической регрессии')"
      ]
     },
     "execution_count": 34,
     "metadata": {},
     "output_type": "execute_result"
    },
    {
     "data": {
      "image/png": "[encoded data removed]",
      "text/plain": [
       "<Figure size 432x288 with 1 Axes>"
      ]
     },
     "metadata": {},
     "output_type": "display_data"
    }
   ],
   "source": [
    "plt.plot(fpr, tpr)\n",
    "plt.xlabel('FPR')\n",
    "plt.ylabel('TPR (полнота)')\n",
    "plt.title('ROC-кривая для логистической регрессии')\n",
    "# По кривой видно, что она стремится в левый верхний угол, что яв-ся признаком хорошего классификатора, \n",
    "# т.к. при полноте равной почти 0.9, кол-во ложно положительных примеров составляет 0.\n",
    "# При полноте равной ~ 0.98, FPR < 0.1."
   ]
  },
  {
   "cell_type": "code",
   "execution_count": 35,
   "metadata": {},
   "outputs": [
    {
     "name": "stdout",
     "output_type": "stream",
     "text": [
      "AUC для логистической регрессии = 0.996\n"
     ]
    }
   ],
   "source": [
    "from sklearn.metrics import roc_auc_score\n",
    "log_reg_auc = roc_auc_score(y_test,log_reg.decision_function(X_test))\n",
    "print(\"AUC для логистической регрессии = {:.3f}\".format(log_reg_auc))"
   ]
  },
  {
   "cell_type": "markdown",
   "metadata": {},
   "source": [
    "# Дерево решений"
   ]
  },
  {
   "cell_type": "code",
   "execution_count": 77,
   "metadata": {},
   "outputs": [
    {
     "data": {
      "text/plain": [
       "<matplotlib.legend.Legend at 0x1a1e196eb8>"
      ]
     },
     "execution_count": 77,
     "metadata": {},
     "output_type": "execute_result"
    },
    {
     "data": {
      "image/png": "[encoded data removed]",
      "text/plain": [
       "<Figure size 432x288 with 1 Axes>"
      ]
     },
     "metadata": {},
     "output_type": "display_data"
    }
   ],
   "source": [
    "X_train, X_test, y_train, y_test = train_test_split(cancer.data, cancer.target, random_state = RAND)\n",
    "\n",
    "training_accuracy = []\n",
    "test_accuracy = []\n",
    "\n",
    "# у деревьев мы можем регулировать их глубину. \n",
    "# Рассмотрим точность деревьев при глубине от 1 до 14\n",
    "max_depth = range(1,15) \n",
    "\n",
    "for md in max_depth:\n",
    "    tree = DecisionTreeClassifier(max_depth = md, random_state=0)\n",
    "    tree.fit(X_train,y_train)\n",
    "    training_accuracy.append(tree.score(X_train,y_train))\n",
    "    test_accuracy.append(tree.score(X_test,y_test))\n",
    "    \n",
    "    \n",
    "plt.plot(max_depth,training_accuracy, label = 'Правильность на тренировочном наборе')\n",
    "plt.plot(max_depth,test_accuracy, label = 'Правильность на тестовом наборе')\n",
    "plt.ylabel('Правильность')\n",
    "plt.xlabel('Глубина дерева')\n",
    "plt.legend()"
   ]
  },
  {
   "cell_type": "markdown",
   "metadata": {},
   "source": [
    "При глубине дерева более 5 модель переобучается: на тренировочном наборе алгоритм предсказывает значения с высокой правильностью, \n",
    "но при этом правильность на тестовом наборе данных снижается.\n",
    "\n",
    "На графике видно, что лучшая правильность на обоих наборах достигается при max_depth = 3."
   ]
  },
  {
   "cell_type": "code",
   "execution_count": 78,
   "metadata": {},
   "outputs": [
    {
     "name": "stdout",
     "output_type": "stream",
     "text": [
      "Правильность на тренировочном наборе, при max_depth = 3: 0.972\n",
      "Правильность на тестовом наборе, при max_depth = 3: 0.958\n"
     ]
    }
   ],
   "source": [
    "# при max_depth = 3 видно, что модель достигает наибольшей точности \n",
    "\n",
    "print ('Правильность на тренировочном наборе, при max_depth = 3: {:.3f}'.format(training_accuracy[2]))\n",
    "print ('Правильность на тестовом наборе, при max_depth = 3: {:.3f}'.format(test_accuracy[2]))"
   ]
  },
  {
   "cell_type": "markdown",
   "metadata": {},
   "source": [
    "### Кросс - валидация"
   ]
  },
  {
   "cell_type": "code",
   "execution_count": 72,
   "metadata": {},
   "outputs": [],
   "source": [
    "X_trainval, X_test, y_trainval, y_test = train_test_split(cancer.data, cancer.target, \n",
    "                                                    stratify = cancer.target, random_state = RAND)\n",
    "X_train, X_valid, y_train, y_valid = train_test_split(X_trainval, y_trainval, random_state = RAND)"
   ]
  },
  {
   "cell_type": "code",
   "execution_count": 225,
   "metadata": {},
   "outputs": [
    {
     "data": {
      "text/plain": [
       "Text(0.5, 1.0, 'Правильность при перекрестной проверке')"
      ]
     },
     "execution_count": 225,
     "metadata": {},
     "output_type": "execute_result"
    },
    {
     "data": {
      "image/png": "[encoded data removed]",
      "text/plain": [
       "<Figure size 432x288 with 1 Axes>"
      ]
     },
     "metadata": {},
     "output_type": "display_data"
    }
   ],
   "source": [
    "# ищем параметр max_depth через график при перекрестной проверке\n",
    "kfold = KFold(n_splits=5, random_state=42, shuffle=True)\n",
    "scores = []\n",
    "\n",
    "for md in max_depth:\n",
    "    tree = DecisionTreeClassifier(max_depth = md, random_state = RAND)\n",
    "    scor = cross_val_score(tree,X_trainval, y_trainval, cv = kfold)\n",
    "    scores.append(np.mean(scor))\n",
    "\n",
    "plt.plot(max_depth,training_accuracy, label = 'Правильность на тренировочном наборе')\n",
    "plt.plot(max_depth,test_accuracy, label = 'Правильность на тестовом наборе')    \n",
    "plt.plot(max_depth, scores, label = 'cross valodation')\n",
    "plt.ylabel('Правильность')\n",
    "plt.xlabel('Глубина') \n",
    "plt.legend()\n",
    "plt.title('Правильность при перекрестной проверке')"
   ]
  },
  {
   "cell_type": "code",
   "execution_count": 74,
   "metadata": {},
   "outputs": [],
   "source": [
    "best_score = 0\n",
    "\n",
    "for md in max_depth:\n",
    "    tree = DecisionTreeClassifier(max_depth = md, random_state=0)\n",
    "    tree.fit(X_train,y_train)\n",
    "    score = tree.score(X_valid,y_valid)\n",
    "\n",
    "    if score > best_score:\n",
    "        best_score = score\n",
    "        best_parameters = {'max_depth': md}"
   ]
  },
  {
   "cell_type": "code",
   "execution_count": 75,
   "metadata": {},
   "outputs": [
    {
     "data": {
      "text/plain": [
       "{'max_depth': 7}"
      ]
     },
     "execution_count": 75,
     "metadata": {},
     "output_type": "execute_result"
    }
   ],
   "source": [
    "best_parameters"
   ]
  },
  {
   "cell_type": "code",
   "execution_count": 76,
   "metadata": {},
   "outputs": [
    {
     "name": "stdout",
     "output_type": "stream",
     "text": [
      "Лучшее значение правильности на проверочном наборе: 0.981\n",
      "Наилучшие значения параметров:  {'max_depth': 7}\n",
      "Правильность на тестовом наборе с наилучшими параметрами: 0.923\n"
     ]
    }
   ],
   "source": [
    "tree = DecisionTreeClassifier(**best_parameters, random_state= RAND)\n",
    "tree.fit(X_trainval,y_trainval)\n",
    "test_score = tree.score(X_test,y_test)\n",
    "\n",
    "print(\"Лучшее значение правильности на проверочном наборе: {:.3f}\".format(best_score))\n",
    "print(\"Наилучшие значения параметров: \", best_parameters)\n",
    "print(\"Правильность на тестовом наборе с наилучшими параметрами: {:.3f}\".format(test_score))"
   ]
  },
  {
   "cell_type": "code",
   "execution_count": null,
   "metadata": {},
   "outputs": [],
   "source": [
    "# правильность на проверочном наборе увеличилась, на тестовом снизилась"
   ]
  },
  {
   "cell_type": "markdown",
   "metadata": {},
   "source": [
    "### F1, precision,recall"
   ]
  },
  {
   "cell_type": "code",
   "execution_count": 79,
   "metadata": {},
   "outputs": [
    {
     "name": "stdout",
     "output_type": "stream",
     "text": [
      "f1 мера = 0.94\n",
      "Точность = 0.96\n",
      "Полнота = 0.92\n",
      "\n"
     ]
    }
   ],
   "source": [
    "# показатели F-меры, точности и полноты на дереве с глубиной = 7 \n",
    "pred_tree = tree.predict(X_test)\n",
    "\n",
    "print('f1 мера = {:.2f}'.format(f1_score(y_test,pred_tree)))\n",
    "print ('Точность = {:.2f}'.format(precision_score(y_test,pred_tree)))\n",
    "print ('Полнота = {:.2f}\\n'.format(recall_score(y_test,pred_tree)))\n",
    "# показатели ниже, чем у логистической регрессии"
   ]
  },
  {
   "cell_type": "code",
   "execution_count": 80,
   "metadata": {},
   "outputs": [
    {
     "name": "stdout",
     "output_type": "stream",
     "text": [
      "             precision    recall  f1-score   support\n",
      "\n",
      "          0       0.88      0.94      0.91        54\n",
      "          1       0.96      0.92      0.94        89\n",
      "\n",
      "avg / total       0.93      0.93      0.93       143\n",
      "\n"
     ]
    }
   ],
   "source": [
    "print(classification_report(y_test, pred_tree))"
   ]
  },
  {
   "cell_type": "markdown",
   "metadata": {},
   "source": [
    "### ROC - AUC"
   ]
  },
  {
   "cell_type": "code",
   "execution_count": 81,
   "metadata": {},
   "outputs": [
    {
     "data": {
      "text/plain": [
       "Text(0.5, 1.0, 'ROC-кривая для дерева решений')"
      ]
     },
     "execution_count": 81,
     "metadata": {},
     "output_type": "execute_result"
    },
    {
     "data": {
      "image/png": "[encoded data removed]",
      "text/plain": [
       "<Figure size 432x288 with 1 Axes>"
      ]
     },
     "metadata": {},
     "output_type": "display_data"
    }
   ],
   "source": [
    "fpr_tree, tpr_tree, thresholds_tree = roc_curve(y_test, tree.predict_proba(X_test)[:,1])\n",
    "\n",
    "plt.plot(fpr_tree, tpr_tree)\n",
    "plt.xlabel('FPR')\n",
    "plt.ylabel('TPR (полнота)')\n",
    "plt.title('ROC-кривая для дерева решений')"
   ]
  },
  {
   "cell_type": "code",
   "execution_count": 82,
   "metadata": {},
   "outputs": [
    {
     "name": "stdout",
     "output_type": "stream",
     "text": [
      "AUC для дерева решений = 0.933\n"
     ]
    }
   ],
   "source": [
    "tree_auc = roc_auc_score(y_test,tree.predict_proba(X_test)[:,1])\n",
    "print(\"AUC для дерева решений = {:.3f}\".format(tree_auc))\n",
    "\n",
    "# ROC - AUC так же показывают, что на данном наборе данных логистическая регрессия работает лучше, чем дерево решений"
   ]
  },
  {
   "cell_type": "code",
   "execution_count": 107,
   "metadata": {},
   "outputs": [],
   "source": [
    "export_graphviz(tree, out_file='cancerTree.dot', class_names=['malignant','benign'], \n",
    "                feature_names=cancer.feature_names, \n",
    "                impurity=False, filled=True)"
   ]
  },
  {
   "cell_type": "code",
   "execution_count": 108,
   "metadata": {},
   "outputs": [
    {
     "name": "stdout",
     "output_type": "stream",
     "text": [
      "Feature importances:\n",
      " [0.         0.         0.         0.         0.         0.\n",
      " 0.         0.72468105 0.         0.         0.01277192 0.\n",
      " 0.         0.         0.00826156 0.         0.         0.01702539\n",
      " 0.         0.         0.05899273 0.12550655 0.00838371 0.03452044\n",
      " 0.00985664 0.         0.         0.         0.         0.        ]\n"
     ]
    },
    {
     "data": {
      "text/plain": [
       "numpy.ndarray"
      ]
     },
     "execution_count": 108,
     "metadata": {},
     "output_type": "execute_result"
    }
   ],
   "source": [
    "print('Feature importances:\\n {}'.format(tree.feature_importances_))\n",
    "type(tree.feature_importances_)"
   ]
  },
  {
   "cell_type": "code",
   "execution_count": 109,
   "metadata": {},
   "outputs": [
    {
     "data": {
      "image/png": "[encoded data removed]",
      "text/plain": [
       "<Figure size 432x288 with 1 Axes>"
      ]
     },
     "metadata": {},
     "output_type": "display_data"
    }
   ],
   "source": [
    "n_feature = cancer.data.shape[1]\n",
    "plt.barh(range(n_feature),tree.feature_importances_, align = 'center')\n",
    "plt.yticks(np.arange(n_feature), cancer.feature_names)\n",
    "plt.xlabel('Важность признака')\n",
    "plt.ylabel('Признаки')\n",
    "plt.show()"
   ]
  },
  {
   "cell_type": "markdown",
   "metadata": {},
   "source": [
    "# Случайный лес"
   ]
  },
  {
   "cell_type": "code",
   "execution_count": 86,
   "metadata": {},
   "outputs": [
    {
     "name": "stdout",
     "output_type": "stream",
     "text": [
      "Правильность на тренировочном наборе: 1.000\n",
      "Правильность на тестовом наборе: 0.965\n"
     ]
    }
   ],
   "source": [
    "X_train, X_test, y_train, y_test = train_test_split(cancer.data, cancer.target, random_state = RAND)\n",
    "\n",
    "forest = RandomForestClassifier(n_estimators = 100, random_state = RAND)\n",
    "forest.fit(X_train,y_train)\n",
    "\n",
    "print ('Правильность на тренировочном наборе: {:.3f}'.format(forest.score(X_train,y_train)))\n",
    "print ('Правильность на тестовом наборе: {:.3f}'.format(forest.score(X_test,y_test)))\n",
    "\n",
    "# можно регулировать параметры max_depth и max_features"
   ]
  },
  {
   "cell_type": "code",
   "execution_count": 87,
   "metadata": {},
   "outputs": [
    {
     "data": {
      "text/plain": [
       "RandomForestClassifier(bootstrap=True, class_weight=None, criterion='gini',\n",
       "            max_depth=None, max_features='auto', max_leaf_nodes=None,\n",
       "            min_impurity_decrease=0.0, min_impurity_split=None,\n",
       "            min_samples_leaf=1, min_samples_split=2,\n",
       "            min_weight_fraction_leaf=0.0, n_estimators=100, n_jobs=1,\n",
       "            oob_score=False, random_state=42, verbose=0, warm_start=False)"
      ]
     },
     "execution_count": 87,
     "metadata": {},
     "output_type": "execute_result"
    }
   ],
   "source": [
    "forest"
   ]
  },
  {
   "cell_type": "markdown",
   "metadata": {},
   "source": [
    "### Кросс - валидация"
   ]
  },
  {
   "cell_type": "code",
   "execution_count": 106,
   "metadata": {},
   "outputs": [],
   "source": [
    "# правильность при разном кол-ве деревьев - параметр n_estimators\n",
    "X_trainval, X_test, y_trainval, y_test = train_test_split(cancer.data, cancer.target, \n",
    "                                                    stratify = cancer.target, random_state = RAND)\n",
    "X_train, X_valid, y_train, y_valid = train_test_split(X_trainval, y_trainval, random_state = RAND)\n",
    "\n",
    "best_score = 0\n",
    "\n",
    "for e in estimators:\n",
    "    forest = RandomForestClassifier(n_estimators = e, random_state = RAND)\n",
    "    forest.fit(X_train,y_train)\n",
    "    forest.score(X_valid, y_valid)\n",
    "    if score > best_score:\n",
    "        best_score = score\n",
    "        best_parameters = {'n_estimators': e}"
   ]
  },
  {
   "cell_type": "code",
   "execution_count": 107,
   "metadata": {},
   "outputs": [
    {
     "data": {
      "text/plain": [
       "{'n_estimators': 5}"
      ]
     },
     "execution_count": 107,
     "metadata": {},
     "output_type": "execute_result"
    }
   ],
   "source": [
    "best_parameters"
   ]
  },
  {
   "cell_type": "code",
   "execution_count": 108,
   "metadata": {},
   "outputs": [
    {
     "name": "stdout",
     "output_type": "stream",
     "text": [
      "n_estimators =  5\n",
      "Правильность слайчайного леса при перекрестной проверке 0.936\n",
      "\n",
      "n_estimators =  30\n",
      "Правильность слайчайного леса при перекрестной проверке 0.955\n",
      "\n",
      "n_estimators =  55\n",
      "Правильность слайчайного леса при перекрестной проверке 0.953\n",
      "\n",
      "n_estimators =  80\n",
      "Правильность слайчайного леса при перекрестной проверке 0.951\n",
      "\n",
      "n_estimators =  100\n",
      "Правильность слайчайного леса при перекрестной проверке 0.953\n",
      "\n"
     ]
    }
   ],
   "source": [
    "# правильность при перекрестной проверке\n",
    "\n",
    "kfold = KFold(n_splits=5, random_state=42, shuffle=True)\n",
    "estimators = [5, 30, 55, 80, 100]\n",
    "scores = []\n",
    "\n",
    "\n",
    "for e in estimators:\n",
    "    forest = RandomForestClassifier(n_estimators = e, random_state = RAND)\n",
    "    scor = cross_val_score(forest,X_trainval, y_trainval, cv = kfold)\n",
    "    scores.append(np.mean(scor))\n",
    "    print('n_estimators = ', e)\n",
    "    print(\"Правильность слайчайного леса при перекрестной проверке {:.3f}\\n\".format(np.mean(scor)))    "
   ]
  },
  {
   "cell_type": "code",
   "execution_count": 109,
   "metadata": {},
   "outputs": [
    {
     "name": "stdout",
     "output_type": "stream",
     "text": [
      "Лучшее значение правильности на проверочном наборе: 0.981\n",
      "Наилучшие значения параметров:  {'n_estimators': 5}\n",
      "Правильность на тестовом наборе с наилучшими параметрами: 0.937\n"
     ]
    }
   ],
   "source": [
    "# правильность при условии, что выбрали параметр из разделения данных на 3 части\n",
    "forest = RandomForestClassifier(**best_parameters, random_state= RAND)\n",
    "forest.fit(X_trainval,y_trainval)\n",
    "test_score = forest.score(X_test,y_test)\n",
    "\n",
    "print(\"Лучшее значение правильности на проверочном наборе: {:.3f}\".format(best_score))\n",
    "print(\"Наилучшие значения параметров: \", best_parameters)\n",
    "print(\"Правильность на тестовом наборе с наилучшими параметрами: {:.3f}\".format(test_score))\n",
    "    "
   ]
  },
  {
   "cell_type": "code",
   "execution_count": 112,
   "metadata": {},
   "outputs": [
    {
     "name": "stdout",
     "output_type": "stream",
     "text": [
      "Лучшее значение правильности на проверочном наборе: 0.981\n",
      "Наилучшие значения параметров n_estimators:  30\n",
      "Правильность на тестовом наборе с наилучшими параметрами: 0.951\n"
     ]
    }
   ],
   "source": [
    "# правильность при условии, что выбрали параметр из перекрестной проверки\n",
    "X_trainval, X_test, y_trainval, y_test = train_test_split(cancer.data, cancer.target, \n",
    "                                                    stratify = cancer.target, random_state = RAND)\n",
    "X_train, X_valid, y_train, y_valid = train_test_split(X_trainval, y_trainval, random_state = RAND)\n",
    "\n",
    "forest = RandomForestClassifier(n_estimators= 30, random_state= RAND)\n",
    "forest.fit(X_trainval,y_trainval)\n",
    "test_score = forest.score(X_test,y_test)\n",
    "\n",
    "print(\"Лучшее значение правильности на проверочном наборе: {:.3f}\".format(best_score))\n",
    "print(\"Наилучшие значения параметров n_estimators: \", forest.n_estimators)\n",
    "print(\"Правильность на тестовом наборе с наилучшими параметрами: {:.3f}\".format(test_score))"
   ]
  },
  {
   "cell_type": "markdown",
   "metadata": {},
   "source": [
    "### F1, precision,recall"
   ]
  },
  {
   "cell_type": "code",
   "execution_count": 113,
   "metadata": {},
   "outputs": [
    {
     "name": "stdout",
     "output_type": "stream",
     "text": [
      "f1 мера = 0.96\n",
      "Точность = 0.96\n",
      "Полнота = 0.97\n",
      "\n",
      "AUC для случайного леса = 0.994\n"
     ]
    },
    {
     "data": {
      "image/png": "[encoded data removed]",
      "text/plain": [
       "<Figure size 432x288 with 1 Axes>"
      ]
     },
     "metadata": {},
     "output_type": "display_data"
    }
   ],
   "source": [
    "# показатели F-меры, точности и полноты на случайном лесе с параметрами n_estimators = 30\n",
    "pred_rf = forest.predict(X_test)\n",
    "\n",
    "print('f1 мера = {:.2f}'.format(f1_score(y_test,pred_rf)))\n",
    "print ('Точность = {:.2f}'.format(precision_score(y_test,pred_rf)))\n",
    "print ('Полнота = {:.2f}\\n'.format(recall_score(y_test,pred_rf)))\n",
    "\n",
    "\n",
    "# ROC - curve\n",
    "fpr_rf, tpr_rf, thresholds_rf = roc_curve(y_test, forest.predict_proba(X_test)[:,1])\n",
    "\n",
    "plt.plot(fpr_rf, tpr_rf)\n",
    "plt.xlabel('FPR')\n",
    "plt.ylabel('TPR (полнота)')\n",
    "plt.title('ROC-кривая для случайного леса')\n",
    "\n",
    "# AUC\n",
    "forest_auc = roc_auc_score(y_test,forest.predict_proba(X_test)[:,1])\n",
    "print(\"AUC для случайного леса = {:.3f}\".format(forest_auc))"
   ]
  },
  {
   "cell_type": "code",
   "execution_count": null,
   "metadata": {},
   "outputs": [],
   "source": [
    "# у случайного леса показатели значительно лучше, чем у дерева решений и хуже, чем у лог. регрессии "
   ]
  },
  {
   "cell_type": "markdown",
   "metadata": {},
   "source": [
    "### Анализ признаков "
   ]
  },
  {
   "cell_type": "code",
   "execution_count": 111,
   "metadata": {},
   "outputs": [
    {
     "data": {
      "image/png": "[encoded data removed]",
      "text/plain": [
       "<Figure size 432x288 with 1 Axes>"
      ]
     },
     "metadata": {},
     "output_type": "display_data"
    }
   ],
   "source": [
    "n_feature = cancer.data.shape[1]\n",
    "plt.barh(range(n_feature),forest.feature_importances_, align = 'center')\n",
    "plt.yticks(np.arange(n_feature), cancer.feature_names)\n",
    "plt.xlabel('Важность признака')\n",
    "plt.ylabel('Признаки')\n",
    "plt.show()"
   ]
  },
  {
   "cell_type": "markdown",
   "metadata": {},
   "source": [
    "Без настройки каких-либо параметров случайный лес дает нам правильность 97%, это лучше результата линейных моделей или\n",
    "одиночного дерева решений. При регулировке параметров max_features и max_depth увидели, что модель работает лучше всего на заданных автоматически параметрах. "
   ]
  },
  {
   "cell_type": "markdown",
   "metadata": {},
   "source": [
    "# Нейронная сеть"
   ]
  },
  {
   "cell_type": "code",
   "execution_count": 172,
   "metadata": {},
   "outputs": [
    {
     "name": "stdout",
     "output_type": "stream",
     "text": [
      "Правильность на тренировочном наборе: 0.890\n",
      "Правильность на тестовом наборе: 0.923\n"
     ]
    }
   ],
   "source": [
    "X_train, X_test, y_train, y_test = train_test_split(cancer.data, cancer.target, random_state = RAND)\n",
    "\n",
    "mlp = MLPClassifier(random_state = RAND)\n",
    "mlp.fit(X_train,y_train)\n",
    "\n",
    "print ('Правильность на тренировочном наборе: {:.3f}'.format(mlp.score(X_train,y_train)))\n",
    "print ('Правильность на тестовом наборе: {:.3f}'.format(mlp.score(X_test,y_test)))"
   ]
  },
  {
   "cell_type": "markdown",
   "metadata": {},
   "source": [
    "Нейронные сети также требуют того, чтобы все входные признаки были измерены в одном и том же масштабе, в идеале они должны иметь среднее 0 и дисперсию 1. "
   ]
  },
  {
   "cell_type": "code",
   "execution_count": 173,
   "metadata": {},
   "outputs": [
    {
     "name": "stdout",
     "output_type": "stream",
     "text": [
      "Максимум для каждого признака:\n",
      " [2.811e+01 3.928e+01 1.885e+02 2.501e+03 1.634e-01 3.454e-01 4.268e-01\n",
      " 2.012e-01 3.040e-01 9.744e-02 2.873e+00 4.885e+00 2.198e+01 5.422e+02\n",
      " 3.113e-02 1.354e-01 3.960e-01 5.279e-02 7.895e-02 2.984e-02 3.604e+01\n",
      " 4.954e+01 2.512e+02 4.254e+03 2.226e-01 1.058e+00 1.252e+00 2.910e-01\n",
      " 6.638e-01 2.075e-01]\n"
     ]
    }
   ],
   "source": [
    "print('Максимум для каждого признака:\\n {}'.format(cancer.data.max(axis = 0)))"
   ]
  },
  {
   "cell_type": "code",
   "execution_count": 174,
   "metadata": {},
   "outputs": [
    {
     "name": "stdout",
     "output_type": "stream",
     "text": [
      "Правильность на тренировочном наборе: 0.995\n",
      "Правильность на тестовом наборе: 0.986\n"
     ]
    }
   ],
   "source": [
    "# попробуем отмасштабировать данные и сравнить результаты\n",
    "scaler = StandardScaler()\n",
    "\n",
    "X_train_scaled = scaler.fit(X_train).transform(X_train) # в исходном ноутбуке ошибка, Мюллер стр 153\n",
    "X_test_scaled = scaler.fit(X_train).transform(X_test)\n",
    "\n",
    "mlp = MLPClassifier(max_iter = 1000,random_state = RAND)\n",
    "mlp.fit(X_train_scaled,y_train)\n",
    "\n",
    "print ('Правильность на тренировочном наборе: {:.3f}'.format(mlp.score(X_train_scaled,y_train)))\n",
    "print ('Правильность на тестовом наборе: {:.3f}'.format(mlp.score(X_test_scaled,y_test)))\n",
    "\n",
    "# масштабирование данных помогло, результаты стали лучше"
   ]
  },
  {
   "cell_type": "code",
   "execution_count": 175,
   "metadata": {},
   "outputs": [
    {
     "data": {
      "text/plain": [
       "0.0001"
      ]
     },
     "execution_count": 175,
     "metadata": {},
     "output_type": "execute_result"
    }
   ],
   "source": [
    "mlp.alpha"
   ]
  },
  {
   "cell_type": "code",
   "execution_count": 165,
   "metadata": {},
   "outputs": [
    {
     "name": "stdout",
     "output_type": "stream",
     "text": [
      "Правильность на тренировочном наборе: 0.988\n",
      "Правильность на тестовом наборе: 0.986\n"
     ]
    }
   ],
   "source": [
    "# alpha=0.0001, низкое значение alpha => небольшая регуляризация\n",
    "# попробуем поменять этот параметр и установить более сильную регуляризацию коэффициентов\n",
    "\n",
    "mlp = MLPClassifier(max_iter = 1000, alpha = 1, random_state = RAND)\n",
    "mlp.fit(X_train_scaled,y_train)\n",
    "\n",
    "print ('Правильность на тренировочном наборе: {:.3f}'.format(mlp.score(X_train_scaled,y_train)))\n",
    "print ('Правильность на тестовом наборе: {:.3f}'.format(mlp.score(X_test_scaled,y_test)))"
   ]
  },
  {
   "cell_type": "markdown",
   "metadata": {},
   "source": [
    "###  Кросс-валидация"
   ]
  },
  {
   "cell_type": "code",
   "execution_count": 192,
   "metadata": {},
   "outputs": [
    {
     "name": "stdout",
     "output_type": "stream",
     "text": [
      "(426, 30)\n",
      "(143, 30)\n"
     ]
    }
   ],
   "source": [
    "# разбиваем данные на обучающий + проверочный набор и тестовый набор\n",
    "X_trainval, X_test, y_trainval, y_test = train_test_split(cancer.data, cancer.target, \n",
    "                                                    stratify = cancer.target, random_state = RAND)\n",
    "\n",
    "print(X_trainval.shape)\n",
    "print(X_test.shape)"
   ]
  },
  {
   "cell_type": "code",
   "execution_count": 193,
   "metadata": {},
   "outputs": [
    {
     "name": "stdout",
     "output_type": "stream",
     "text": [
      "(426, 30)\n",
      "(143, 30)\n"
     ]
    }
   ],
   "source": [
    "# преобразовываем данные\n",
    "scaler = StandardScaler()\n",
    "scaler.fit(X_trainval)\n",
    "\n",
    "X_trainval_scaled = scaler.transform(X_trainval)\n",
    "X_test_scaled = scaler.transform(X_test)\n",
    "print(X_trainval_scaled.shape)\n",
    "print(X_test_scaled.shape)\n",
    "\n",
    "# печатаем значения признаков в обучающем наборе до и после масштабирования\n",
    "\n",
    "#print(\"min значение признака до масштабирования:\\n {}\".format(X_train.min(axis=0)))\n",
    "#print(\"max значение признака до масштабирования:\\n {}\".format(X_train.max(axis=0)))\n",
    "#print(\"min значение признака после масштабирования:\\n {}\".format(X_trainval_scaled.min(axis=0)))\n",
    "#print(\"max значение признака после масштабирования:\\n {}\".format(X_trainval_scaled.max(axis=0)))"
   ]
  },
  {
   "cell_type": "code",
   "execution_count": 194,
   "metadata": {},
   "outputs": [],
   "source": [
    "# разбиваем обучающий+проверочный набор на обучающий и проверочный наборы\n",
    "X_train_scaled, X_valid_scaled, y_train, y_valid = train_test_split(X_trainval_scaled, y_trainval, random_state = RAND)"
   ]
  },
  {
   "cell_type": "code",
   "execution_count": 195,
   "metadata": {},
   "outputs": [
    {
     "data": {
      "text/plain": [
       "MLPClassifier(activation='relu', alpha=0.0001, batch_size='auto', beta_1=0.9,\n",
       "       beta_2=0.999, early_stopping=False, epsilon=1e-08,\n",
       "       hidden_layer_sizes=(100,), learning_rate='constant',\n",
       "       learning_rate_init=0.001, max_iter=1000, momentum=0.9,\n",
       "       nesterovs_momentum=True, power_t=0.5, random_state=42, shuffle=True,\n",
       "       solver='adam', tol=0.0001, validation_fraction=0.1, verbose=False,\n",
       "       warm_start=False)"
      ]
     },
     "execution_count": 195,
     "metadata": {},
     "output_type": "execute_result"
    }
   ],
   "source": [
    "mlp"
   ]
  },
  {
   "cell_type": "code",
   "execution_count": 196,
   "metadata": {},
   "outputs": [],
   "source": [
    "# правильность при разном alpha с учетом разбиения данных на 3 части\n",
    "\n",
    "al = [0.0001, 0.01, 0.1, 1]\n",
    "best_score = 0\n",
    "\n",
    "for a in al:\n",
    "    mlp = MLPClassifier(max_iter= 1000, alpha= a, random_state = RAND)\n",
    "    mlp.fit(X_train_scaled,y_train)\n",
    "    forest.score(X_valid_scaled, y_valid)\n",
    "    if score > best_score:\n",
    "        best_score = score\n",
    "        best_parameters = {'alpha': a}"
   ]
  },
  {
   "cell_type": "code",
   "execution_count": 197,
   "metadata": {},
   "outputs": [
    {
     "data": {
      "text/plain": [
       "{'alpha': 0.0001}"
      ]
     },
     "execution_count": 197,
     "metadata": {},
     "output_type": "execute_result"
    }
   ],
   "source": [
    "best_parameters"
   ]
  },
  {
   "cell_type": "code",
   "execution_count": 198,
   "metadata": {},
   "outputs": [
    {
     "name": "stdout",
     "output_type": "stream",
     "text": [
      "Лучшее значение правильности на проверочном наборе: 0.981\n",
      "Наилучшие значения параметров:  {'alpha': 0.0001}\n",
      "Правильность на тестовом наборе с наилучшими параметрами: 0.965\n"
     ]
    }
   ],
   "source": [
    "# правильность при условии, что выбрали параметр из разделения данных на 3 части\n",
    "mlp = MLPClassifier(**best_parameters, max_iter= 1000,random_state = RAND)\n",
    "mlp.fit(X_trainval_scaled,y_trainval)\n",
    "test_score = mlp.score(X_test_scaled,y_test)\n",
    "\n",
    "print(\"Лучшее значение правильности на проверочном наборе: {:.3f}\".format(best_score))\n",
    "print(\"Наилучшие значения параметров: \", best_parameters)\n",
    "print(\"Правильность на тестовом наборе с наилучшими параметрами: {:.3f}\".format(test_score))\n",
    "    "
   ]
  },
  {
   "cell_type": "code",
   "execution_count": 182,
   "metadata": {},
   "outputs": [
    {
     "name": "stdout",
     "output_type": "stream",
     "text": [
      "alpha =  0.0001\n",
      "Правильность нейронной сети при перекрестной проверке 0.976\n",
      "\n",
      "alpha =  0.01\n",
      "Правильность нейронной сети при перекрестной проверке 0.976\n",
      "\n",
      "alpha =  0.1\n",
      "Правильность нейронной сети при перекрестной проверке 0.979\n",
      "\n",
      "alpha =  1\n",
      "Правильность нейронной сети при перекрестной проверке 0.986\n",
      "\n"
     ]
    }
   ],
   "source": [
    "# правильность при перекрестной проверке\n",
    "\n",
    "kfold = KFold(n_splits=5, random_state=42, shuffle=True)\n",
    "\n",
    "scores = []\n",
    "\n",
    "\n",
    "for a in al:\n",
    "    mlp = MLPClassifier(max_iter= 1000, alpha= a, random_state = RAND)\n",
    "    scor = cross_val_score(mlp,X_trainval_scaled, y_trainval, cv = kfold)\n",
    "    scores.append(np.mean(scor))\n",
    "    print('alpha = ', a)\n",
    "    print(\"Правильность нейронной сети при перекрестной проверке {:.3f}\\n\".format(np.mean(scor)))    "
   ]
  },
  {
   "cell_type": "code",
   "execution_count": 199,
   "metadata": {},
   "outputs": [
    {
     "name": "stdout",
     "output_type": "stream",
     "text": [
      "Лучшее значение правильности на проверочном наборе: 0.981\n",
      "Наилучшие значения параметров alpha:  1\n",
      "Правильность на тестовом наборе с наилучшими параметрами: 0.972\n"
     ]
    }
   ],
   "source": [
    "# правильность при условии, что выбрали параметр из перекрестной проверки\n",
    "# scaler\n",
    "X_trainval, X_test, y_trainval, y_test = train_test_split(cancer.data, cancer.target, \n",
    "                                                    stratify = cancer.target, random_state = RAND)\n",
    "scaler = StandardScaler()\n",
    "scaler.fit(X_trainval)\n",
    "\n",
    "X_trainval_scaled = scaler.transform(X_trainval)\n",
    "X_test_scaled = scaler.transform(X_test)\n",
    "\n",
    "X_train_scaled, X_valid_scaled, y_train, y_valid = train_test_split(X_trainval_scaled, y_trainval, random_state = RAND)\n",
    "\n",
    "# model\n",
    "mlp = MLPClassifier(max_iter= 1000, alpha= 1, random_state = RAND)\n",
    "mlp.fit(X_trainval_scaled,y_trainval)\n",
    "test_score = mlp.score(X_test_scaled,y_test)\n",
    "\n",
    "print(\"Лучшее значение правильности на проверочном наборе: {:.3f}\".format(best_score))\n",
    "print(\"Наилучшие значения параметров alpha: \", mlp.alpha)\n",
    "print(\"Правильность на тестовом наборе с наилучшими параметрами: {:.3f}\".format(test_score))"
   ]
  },
  {
   "cell_type": "markdown",
   "metadata": {},
   "source": [
    "### F1, precision,recall"
   ]
  },
  {
   "cell_type": "code",
   "execution_count": 200,
   "metadata": {},
   "outputs": [
    {
     "name": "stdout",
     "output_type": "stream",
     "text": [
      "f1 мера = 0.98\n",
      "Точность = 0.99\n",
      "Полнота = 0.97\n",
      "\n"
     ]
    }
   ],
   "source": [
    "nn_pred = mlp.predict(X_test_scaled)\n",
    "\n",
    "print('f1 мера = {:.2f}'.format(f1_score(y_test,nn_pred)))\n",
    "print ('Точность = {:.2f}'.format(precision_score(y_test,nn_pred)))\n",
    "print ('Полнота = {:.2f}\\n'.format(recall_score(y_test,nn_pred)))"
   ]
  },
  {
   "cell_type": "markdown",
   "metadata": {},
   "source": [
    "### ROC - AUC"
   ]
  },
  {
   "cell_type": "code",
   "execution_count": 201,
   "metadata": {},
   "outputs": [
    {
     "name": "stdout",
     "output_type": "stream",
     "text": [
      "AUC для для нейронной сети = 0.998\n"
     ]
    },
    {
     "data": {
      "image/png": "[encoded data removed]",
      "text/plain": [
       "<Figure size 432x288 with 1 Axes>"
      ]
     },
     "metadata": {},
     "output_type": "display_data"
    }
   ],
   "source": [
    "fpr_nn, tpr_nn, thresholds_nn = roc_curve(y_test, mlp.predict_proba(X_test_scaled)[:,1])\n",
    "\n",
    "plt.plot(fpr_nn, tpr_nn)\n",
    "plt.xlabel('FPR')\n",
    "plt.ylabel('TPR (полнота)')\n",
    "plt.title('ROC-кривая для нейронной сети')\n",
    "\n",
    "# AUC\n",
    "nn_auc = roc_auc_score(y_test,mlp.predict_proba(X_test_scaled)[:,1])\n",
    "print(\"AUC для для нейронной сети = {:.3f}\".format(nn_auc))"
   ]
  },
  {
   "cell_type": "code",
   "execution_count": 202,
   "metadata": {},
   "outputs": [
    {
     "data": {
      "text/plain": [
       "<matplotlib.colorbar.Colorbar at 0x1a1fb578d0>"
      ]
     },
     "execution_count": 202,
     "metadata": {},
     "output_type": "execute_result"
    },
    {
     "data": {
      "image/png": "[encoded data removed]",
      "text/plain": [
       "<Figure size 1440x360 with 2 Axes>"
      ]
     },
     "metadata": {},
     "output_type": "display_data"
    }
   ],
   "source": [
    "plt.figure(figsize=(20,5))\n",
    "plt.imshow(mlp.coefs_[0],interpolation='None',cmap='GnBu')\n",
    "plt.yticks(range(30),cancer.feature_names)\n",
    "plt.xlabel('Столбцы матрицы весов')\n",
    "plt.ylabel('Признаки')\n",
    "plt.colorbar()"
   ]
  },
  {
   "cell_type": "markdown",
   "metadata": {},
   "source": [
    "# Метод опорных векторов"
   ]
  },
  {
   "cell_type": "code",
   "execution_count": 117,
   "metadata": {},
   "outputs": [
    {
     "name": "stdout",
     "output_type": "stream",
     "text": [
      "Правильность на тренировочном наборе: 1.000\n",
      "Правильность на тестовом наборе: 0.622\n"
     ]
    }
   ],
   "source": [
    "X_train, X_test, y_train, y_test = train_test_split(cancer.data, cancer.target, random_state = RAND)\n",
    "\n",
    "svm = SVC()\n",
    "svm.fit(X_train,y_train)\n",
    "\n",
    "print ('Правильность на тренировочном наборе: {:.3f}'.format(svm.score(X_train,y_train)))\n",
    "print ('Правильность на тестовом наборе: {:.3f}'.format(svm.score(X_test,y_test)))"
   ]
  },
  {
   "cell_type": "code",
   "execution_count": 118,
   "metadata": {},
   "outputs": [
    {
     "data": {
      "text/plain": [
       "<matplotlib.legend.Legend at 0x1a228cee80>"
      ]
     },
     "execution_count": 118,
     "metadata": {},
     "output_type": "execute_result"
    },
    {
     "data": {
      "image/png": "[encoded data removed]",
      "text/plain": [
       "<Figure size 432x288 with 1 Axes>"
      ]
     },
     "metadata": {},
     "output_type": "display_data"
    }
   ],
   "source": [
    "# сталкнулись с переобучением\n",
    "# следует настроить гиперпараметры\n",
    "# Метод опорных векторов как и Нейронные сети очень чувствителен к масштабированию данных\n",
    "\n",
    "\n",
    "plt.plot(X_train.min(axis=0), 'o', label='Min')\n",
    "plt.plot(X_train.max(axis=0), 'v', label='Max')\n",
    "plt.xlabel('Индекс признака')\n",
    "plt.ylabel('Величина признака (в логарифмах)')\n",
    "plt.yscale('log')\n",
    "plt.legend(loc ='upper right')"
   ]
  },
  {
   "cell_type": "code",
   "execution_count": 119,
   "metadata": {},
   "outputs": [
    {
     "name": "stdout",
     "output_type": "stream",
     "text": [
      "Минимальные значения признаков \n",
      "[0. 0. 0. 0. 0. 0. 0. 0. 0. 0. 0. 0. 0. 0. 0. 0. 0. 0. 0. 0. 0. 0. 0. 0.\n",
      " 0. 0. 0. 0. 0. 0.]\n",
      "Максимальные значения признаков\n",
      "[1. 1. 1. 1. 1. 1. 1. 1. 1. 1. 1. 1. 1. 1. 1. 1. 1. 1. 1. 1. 1. 1. 1. 1.\n",
      " 1. 1. 1. 1. 1. 1.]\n"
     ]
    }
   ],
   "source": [
    "# попробуем отмасштабировать данные и сравнить результаты\n",
    "min_train = X_train.min(axis=0)\n",
    "range_train = (X_train - min_train).max(axis=0)\n",
    "\n",
    "X_train_scaled = (X_train - min_train)/range_train\n",
    "X_test_scaled = (X_test - min_train)/range_train\n",
    "\n",
    "print('Минимальные значения признаков \\n{}'.format(X_train_scaled.min(axis=0)))\n",
    "print('Максимальные значения признаков\\n{}'.format(X_train_scaled.max(axis=0)))"
   ]
  },
  {
   "cell_type": "code",
   "execution_count": 120,
   "metadata": {},
   "outputs": [
    {
     "name": "stdout",
     "output_type": "stream",
     "text": [
      "Правильность на тренировочном наборе: 0.946\n",
      "Правильность на тестовом наборе: 0.965\n"
     ]
    }
   ],
   "source": [
    "svm = SVC()\n",
    "svm.fit(X_train_scaled,y_train)\n",
    "\n",
    "print ('Правильность на тренировочном наборе: {:.3f}'.format(svm.score(X_train_scaled,y_train)))\n",
    "print ('Правильность на тестовом наборе: {:.3f}'.format(svm.score(X_test_scaled,y_test)))\n",
    "\n",
    "# тк алгоритм дает на тестовом наборе результат лучше, чем на тренировочном, то скорее всего модель недообучена\n",
    "# модель имеет признаки недообучения, когда качество модели на обучающем и тестовом наборе весьма схоже, но все еще далеко от \n",
    "# 100%-ной правильности"
   ]
  },
  {
   "cell_type": "markdown",
   "metadata": {},
   "source": [
    "### Кросс - валидация"
   ]
  },
  {
   "cell_type": "code",
   "execution_count": 209,
   "metadata": {},
   "outputs": [],
   "source": [
    "X_trainval, X_test, y_trainval, y_test = train_test_split(cancer.data, cancer.target, \n",
    "                                                    stratify = cancer.target, random_state = RAND)\n"
   ]
  },
  {
   "cell_type": "code",
   "execution_count": 210,
   "metadata": {},
   "outputs": [
    {
     "name": "stdout",
     "output_type": "stream",
     "text": [
      "Минимальные значения признаков \n",
      "[0. 0. 0. 0. 0. 0. 0. 0. 0. 0. 0. 0. 0. 0. 0. 0. 0. 0. 0. 0. 0. 0. 0. 0.\n",
      " 0. 0. 0. 0. 0. 0.]\n",
      "Максимальные значения признаков\n",
      "[1. 1. 1. 1. 1. 1. 1. 1. 1. 1. 1. 1. 1. 1. 1. 1. 1. 1. 1. 1. 1. 1. 1. 1.\n",
      " 1. 1. 1. 1. 1. 1.]\n"
     ]
    }
   ],
   "source": [
    "# попробуем отмасштабировать данные и сравнить результаты\n",
    "min_trainval = X_trainval.min(axis=0)\n",
    "range_trainval = (X_trainval - min_trainval).max(axis=0)\n",
    "\n",
    "X_trainval_scaled = (X_trainval - min_trainval)/range_trainval\n",
    "X_test_scaled = (X_test - min_trainval)/range_trainval\n",
    "\n",
    "print('Минимальные значения признаков \\n{}'.format(X_trainval_scaled.min(axis=0)))\n",
    "print('Максимальные значения признаков\\n{}'.format(X_trainval_scaled.max(axis=0)))"
   ]
  },
  {
   "cell_type": "code",
   "execution_count": 211,
   "metadata": {},
   "outputs": [],
   "source": [
    "X_train_scaled, X_valid_scaled, y_train, y_valid = train_test_split(X_trainval_scaled, y_trainval, random_state=RAND)"
   ]
  },
  {
   "cell_type": "code",
   "execution_count": 90,
   "metadata": {},
   "outputs": [
    {
     "data": {
      "text/plain": [
       "SVC(C=1.0, cache_size=200, class_weight=None, coef0=0.0,\n",
       "  decision_function_shape='ovr', degree=3, gamma='auto', kernel='rbf',\n",
       "  max_iter=-1, probability=False, random_state=None, shrinking=True,\n",
       "  tol=0.001, verbose=False)"
      ]
     },
     "execution_count": 90,
     "metadata": {},
     "output_type": "execute_result"
    }
   ],
   "source": [
    "svm"
   ]
  },
  {
   "cell_type": "code",
   "execution_count": 212,
   "metadata": {},
   "outputs": [],
   "source": [
    "# правильность при разном alpha с учетом разбиения данных на 3 части\n",
    "\n",
    "C_2 = [0.01, 1, 1000] \n",
    "best_score = 0\n",
    "\n",
    "for c in C_2:\n",
    "    svm = SVC(C = c)\n",
    "    svm.fit(X_train_scaled,y_train)\n",
    "    svm.score(X_valid_scaled, y_valid)\n",
    "    if score > best_score:\n",
    "        best_score = score\n",
    "        best_parameters = {'C': c}"
   ]
  },
  {
   "cell_type": "code",
   "execution_count": 213,
   "metadata": {},
   "outputs": [
    {
     "data": {
      "text/plain": [
       "{'C': 0.01}"
      ]
     },
     "execution_count": 213,
     "metadata": {},
     "output_type": "execute_result"
    }
   ],
   "source": [
    "best_parameters\n"
   ]
  },
  {
   "cell_type": "code",
   "execution_count": 214,
   "metadata": {},
   "outputs": [
    {
     "name": "stdout",
     "output_type": "stream",
     "text": [
      "Лучшее значение правильности на проверочном наборе: 0.981\n",
      "Наилучшие значения параметров:  {'C': 0.01}\n",
      "Правильность на тестовом наборе с наилучшими параметрами: 0.629\n"
     ]
    }
   ],
   "source": [
    "# правильность при условии, что выбрали параметр из разделения данных на 3 части\n",
    "svm = SVC(**best_parameters)\n",
    "svm.fit(X_trainval_scaled,y_trainval)\n",
    "test_score = svm.score(X_test_scaled,y_test)\n",
    "\n",
    "print(\"Лучшее значение правильности на проверочном наборе: {:.3f}\".format(best_score))\n",
    "print(\"Наилучшие значения параметров: \", best_parameters)\n",
    "print(\"Правильность на тестовом наборе с наилучшими параметрами: {:.3f}\".format(test_score))"
   ]
  },
  {
   "cell_type": "code",
   "execution_count": 215,
   "metadata": {},
   "outputs": [
    {
     "name": "stdout",
     "output_type": "stream",
     "text": [
      "C =  0.01\n",
      "Правильность нейронной сети при перекрестной проверке 0.627\n",
      "\n",
      "C =  1.0\n",
      "Правильность нейронной сети при перекрестной проверке 0.946\n",
      "\n",
      "C =  100\n",
      "Правильность нейронной сети при перекрестной проверке 0.972\n",
      "\n"
     ]
    }
   ],
   "source": [
    "# правильность при перекрестной проверке\n",
    "\n",
    "kfold = KFold(n_splits=5, random_state=42, shuffle=True)\n",
    "\n",
    "scores = []\n",
    "\n",
    "\n",
    "for c in C:\n",
    "    svm = SVC(C = c)\n",
    "    scor = cross_val_score(svm,X_trainval_scaled, y_trainval, cv = kfold)\n",
    "    scores.append(np.mean(scor))\n",
    "    print('C = ', c)\n",
    "    print(\"Правильность нейронной сети при перекрестной проверке {:.3f}\\n\".format(np.mean(scor)))    "
   ]
  },
  {
   "cell_type": "code",
   "execution_count": 216,
   "metadata": {},
   "outputs": [
    {
     "name": "stdout",
     "output_type": "stream",
     "text": [
      "Лучшее значение правильности на проверочном наборе: 0.981\n",
      "Наилучшие значения параметров C:  100\n",
      "Правильность на тестовом наборе с наилучшими параметрами: 0.986\n"
     ]
    }
   ],
   "source": [
    "# правильность при условии, что выбрали параметр из перекрестной проверки\n",
    "# scaler\n",
    "X_trainval, X_test, y_trainval, y_test = train_test_split(cancer.data, cancer.target, \n",
    "                                                    stratify = cancer.target, random_state = RAND)\n",
    "\n",
    "min_trainval = X_trainval.min(axis=0)\n",
    "range_trainval = (X_trainval - min_trainval).max(axis=0)\n",
    "\n",
    "X_trainval_scaled = (X_trainval - min_trainval)/range_trainval\n",
    "X_test_scaled = (X_test - min_trainval)/range_trainval\n",
    "\n",
    "\n",
    "\n",
    "X_train_scaled, X_valid_scaled, y_train, y_valid = train_test_split(X_trainval_scaled, y_trainval, random_state=RAND)\n",
    "\n",
    "# model\n",
    "svm = SVC(C = 100)\n",
    "svm.fit(X_trainval_scaled,y_trainval)\n",
    "test_score = svm.score(X_test_scaled,y_test)\n",
    "\n",
    "print(\"Лучшее значение правильности на проверочном наборе: {:.3f}\".format(best_score))\n",
    "print(\"Наилучшие значения параметров C: \", svm.C)\n",
    "print(\"Правильность на тестовом наборе с наилучшими параметрами: {:.3f}\".format(test_score))"
   ]
  },
  {
   "cell_type": "markdown",
   "metadata": {},
   "source": [
    "### F1, precision, recall"
   ]
  },
  {
   "cell_type": "code",
   "execution_count": 219,
   "metadata": {},
   "outputs": [
    {
     "name": "stdout",
     "output_type": "stream",
     "text": [
      "f1 мера = 0.99\n",
      "Точность = 0.99\n",
      "Полнота = 0.99\n",
      "\n"
     ]
    }
   ],
   "source": [
    "pred_svm = svm.predict(X_test_scaled)\n",
    "\n",
    "print('f1 мера = {:.2f}'.format(f1_score(y_test,pred_svm)))\n",
    "print ('Точность = {:.2f}'.format(precision_score(y_test,pred_svm)))\n",
    "print ('Полнота = {:.2f}\\n'.format(recall_score(y_test,pred_svm)))"
   ]
  },
  {
   "cell_type": "markdown",
   "metadata": {},
   "source": [
    "### ROC - AUC"
   ]
  },
  {
   "cell_type": "code",
   "execution_count": 220,
   "metadata": {},
   "outputs": [
    {
     "name": "stdout",
     "output_type": "stream",
     "text": [
      "AUC для метода опорных векторов = 0.997\n"
     ]
    },
    {
     "data": {
      "image/png": "[encoded data removed]",
      "text/plain": [
       "<Figure size 432x288 with 1 Axes>"
      ]
     },
     "metadata": {},
     "output_type": "display_data"
    }
   ],
   "source": [
    "fpr_svm, tpr_svm, thresholds_svm = roc_curve(y_test, svm.decision_function(X_test_scaled))\n",
    "\n",
    "plt.plot(fpr_svm, tpr_svm)\n",
    "plt.xlabel('FPR')\n",
    "plt.ylabel('TPR (полнота)')\n",
    "plt.title('ROC-кривая для метода опорных векторов')\n",
    "\n",
    "# AUC\n",
    "svm_auc = roc_auc_score(y_test,svm.decision_function(X_test_scaled))\n",
    "print(\"AUC для метода опорных векторов = {:.3f}\".format(svm_auc))"
   ]
  },
  {
   "cell_type": "markdown",
   "metadata": {},
   "source": [
    "# ROC для всех рассмотренных алгоритмов"
   ]
  },
  {
   "cell_type": "code",
   "execution_count": 222,
   "metadata": {},
   "outputs": [
    {
     "data": {
      "text/plain": [
       "Text(0.5, 1.0, 'ROC-кривая для алгоритмов машинного обучения на данных Breast Cancer')"
      ]
     },
     "execution_count": 222,
     "metadata": {},
     "output_type": "execute_result"
    },
    {
     "data": {
      "image/png": "[encoded data removed]",
      "text/plain": [
       "<Figure size 432x288 with 1 Axes>"
      ]
     },
     "metadata": {},
     "output_type": "display_data"
    }
   ],
   "source": [
    "plt.plot(fpr, tpr, label=\"ROC-кривая логистическая регрессия\")\n",
    "plt.plot(fpr_knn, tpr_knn, label=\"ROC-кривая метод k ближайших соседей\")\n",
    "plt.plot(fpr_tree, tpr_tree,label= 'ROC-кривая - дерево решений')\n",
    "plt.plot(fpr_rf, tpr_rf, label = 'ROC-кривая - случайный лес')\n",
    "plt.plot(fpr_nn, tpr_nn, label = 'ROC-кривая - нейронная сеть')\n",
    "plt.plot(fpr_svm, tpr_svm, label = 'ROC-кривая - метод опорных векторов')\n",
    "plt.xlabel(\"FPR\")\n",
    "plt.ylabel(\"TPR (полнота)\")\n",
    "plt.legend(loc=4)\n",
    "plt.title('ROC-кривая для алгоритмов машинного обучения на данных Breast Cancer')"
   ]
  },
  {
   "cell_type": "code",
   "execution_count": null,
   "metadata": {},
   "outputs": [],
   "source": []
  }
 ],
 "metadata": {
  "kernelspec": {
   "display_name": "Python 3",
   "language": "python",
   "name": "python3"
  },
  "language_info": {
   "codemirror_mode": {
    "name": "ipython",
    "version": 3
   },
   "file_extension": ".py",
   "mimetype": "text/x-python",
   "name": "python",
   "nbconvert_exporter": "python",
   "pygments_lexer": "ipython3",
   "version": "3.6.8"
  }
 },
 "nbformat": 4,
 "nbformat_minor": 2
}
