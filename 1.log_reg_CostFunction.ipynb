{
 "cells": [
  {
   "cell_type": "markdown",
   "metadata": {},
   "source": [
    "# Optimization w vector with LogReg Cost function"
   ]
  },
  {
   "cell_type": "markdown",
   "metadata": {},
   "source": [
    "Для начала работы загруим необходимые библиотеки и инструменты "
   ]
  },
  {
   "cell_type": "code",
   "execution_count": 1,
   "metadata": {},
   "outputs": [],
   "source": [
    "import numpy as np\n",
    "import pandas as pd\n",
    "from sklearn.datasets import load_breast_cancer\n",
    "from sklearn.linear_model import LogisticRegression\n",
    "\n",
    "\n",
    "\n",
    "import matplotlib.pyplot as plt\n",
    "\n",
    "from scipy.optimize import fmin\n"
   ]
  },
  {
   "cell_type": "markdown",
   "metadata": {},
   "source": [
    "В качестве рабочего набора данных будет использован встроенный набор данных breast_cancer, содержащий в себе 569 записей и информацию по 9 признакам. Для каждого из этих признаков были рассчитаны среднее значение, стандартная ошибка и «наихудшее» или наибольшее (среднее из трех самых больших значений) значение, что дало 30 признаков. Каждая из записей данных имеет метку Malignant (злокачественная опухоль) (212 записей) или Benign(доброкачественная опухоль) (357)."
   ]
  },
  {
   "cell_type": "code",
   "execution_count": 2,
   "metadata": {},
   "outputs": [],
   "source": [
    "cancer = load_breast_cancer()"
   ]
  },
  {
   "cell_type": "code",
   "execution_count": 3,
   "metadata": {},
   "outputs": [
    {
     "name": "stdout",
     "output_type": "stream",
     "text": [
      "cancer_data (569, 31)\n",
      "cancer_target (569, 1)\n",
      "\n",
      "Shape X_train (457, 31)\n",
      "Shape y_train (457, 1)\n",
      "\n",
      "Shape X_test (112, 31)\n",
      "Shape y_test (112, 1)\n"
     ]
    }
   ],
   "source": [
    "cancer_data = pd.DataFrame.from_dict(cancer['data'])\n",
    "cancer_target = pd.DataFrame.from_dict(cancer['target'])\n",
    "\n",
    "# add intercept\n",
    "cancer_data.insert(0, 'x_0', 1)\n",
    "\n",
    "print(\"cancer_data\", cancer_data.shape)\n",
    "print(\"cancer_target\",cancer_target.shape)\n",
    "print()\n",
    "\n",
    "# split to train and test sets\n",
    "X_train = cancer_data[0:457]\n",
    "y_train = cancer_target [0:457]\n",
    "X_test = cancer_data[457:]\n",
    "y_test = cancer_target [457:]\n",
    "\n",
    "print(\"Shape X_train\", X_train.shape)\n",
    "print(\"Shape y_train\", y_train.shape)\n",
    "print()\n",
    "print(\"Shape X_test\", X_test.shape)\n",
    "print(\"Shape y_test\", y_test.shape)"
   ]
  },
  {
   "cell_type": "code",
   "execution_count": 4,
   "metadata": {},
   "outputs": [],
   "source": [
    "# create arrays\n",
    "X_train1 = np.array(X_train.values)\n",
    "y_train1 = np.array(y_train.values)\n",
    "X_test1 = np.array(X_test.values)\n",
    "y_test1 = np.array(y_test.values)\n",
    "\n",
    "# initialise w - vector of parameters\n",
    "w = np.ones(31)\n",
    "\n",
    "\n",
    "w = np.matrix(w)\n",
    "X = np.matrix(X_train1)\n",
    "y = np.matrix(y_train1)"
   ]
  },
  {
   "cell_type": "code",
   "execution_count": 5,
   "metadata": {},
   "outputs": [
    {
     "name": "stdout",
     "output_type": "stream",
     "text": [
      "X (457, 31)\n",
      "y (457, 1)\n",
      "w (1, 31)\n"
     ]
    }
   ],
   "source": [
    "print('X', X.shape)\n",
    "print('y', y.shape)\n",
    "print('w', w.shape)"
   ]
  },
  {
   "cell_type": "code",
   "execution_count": 6,
   "metadata": {},
   "outputs": [],
   "source": [
    "# hypothesis function for logistic regression"
   ]
  },
  {
   "cell_type": "markdown",
   "metadata": {},
   "source": [
    "$$\\large h_{w}{(x)} = \\frac{1}{1+ e^{-w^Tx}}\n",
    "$$"
   ]
  },
  {
   "cell_type": "code",
   "execution_count": 7,
   "metadata": {},
   "outputs": [],
   "source": [
    "# the linear regression's cost function cannot be used in logistic regression problems"
   ]
  },
  {
   "cell_type": "markdown",
   "metadata": {},
   "source": [
    "$$ \\large \\ J{(w)} = \\frac{1}{m}\\sum_{i=1}^m \\frac{1}{2} ((h_{w}{(x^i)}) - y^i)^2\n",
    "$$"
   ]
  },
  {
   "cell_type": "markdown",
   "metadata": {},
   "source": [
    "$$ \\large \\ Cost(h_{w}{(x^{(i)})},{y^{(i)}}) = \\frac{1}{2}(h_{w}{(x^{(i)})} - y^{(i)})^2\n",
    "$$"
   ]
  },
  {
   "cell_type": "markdown",
   "metadata": {},
   "source": [
    "$$ \\large \\ J{(w)} = \\frac{1}{m}\\sum_{i=1}^m Cost(h_{w}{(x^{(i)})},{y^{(i)}})\n",
    "$$"
   ]
  },
  {
   "cell_type": "code",
   "execution_count": 8,
   "metadata": {},
   "outputs": [],
   "source": [
    "# Logistic regression cost function"
   ]
  },
  {
   "cell_type": "markdown",
   "metadata": {},
   "source": [
    "\n",
    "$$\\large \\\n",
    "\\begin{equation}\n",
    "  Cost(h_{w}{(x)},{y})=\\begin{cases}\n",
    "    -log(h_{w}{(x)}), & \\text{if $y = 1$}.\\\\\n",
    "    -log(1 - h_{w}{(x)}), & \\text{if $y = 0$}.\n",
    "  \\end{cases}\n",
    "\\end{equation}\n",
    "$$\n",
    "\n",
    "\n"
   ]
  },
  {
   "cell_type": "code",
   "execution_count": 9,
   "metadata": {},
   "outputs": [],
   "source": [
    "# formula without if/else statements "
   ]
  },
  {
   "cell_type": "markdown",
   "metadata": {},
   "source": [
    "\n",
    "$$\\large \\\n",
    "\\begin{equation}\n",
    "  Cost(h_{w}{(x)},{y})= -ylog(h_{w}{(x)})-(1-y)(log(1 - h_{w}{(x)})\n",
    "\\end{equation}\n",
    "$$"
   ]
  },
  {
   "cell_type": "code",
   "execution_count": 10,
   "metadata": {},
   "outputs": [],
   "source": [
    "# define Cost Function for logistic regression with L2 regularization wich we should minimize"
   ]
  },
  {
   "cell_type": "markdown",
   "metadata": {},
   "source": [
    "$$  J{(w)} = \\frac{1}{m}\\sum_{i=1}^m Cost(h_{w}{(x^{(i)})},{y^{(i)}}) = -[\\frac{1}{m}\\sum_{i=1}^m y^{(i)} log(\\frac{1}{1+ e^{-w^Tx}})+(1-y^{(i)})log(1 - \\frac{1}{1+ e^{-w^Tx}})] + \\frac{\\lambda}{2m}\\sum_{j=1}^n w^2_j \n",
    "$$\n",
    "\n"
   ]
  },
  {
   "cell_type": "markdown",
   "metadata": {},
   "source": [
    " $ m  - \\text{number of training examples}$  $n - \\text {number of features }$  $x - \\text{input variable/features }$ $y - \\text{output variable/ target variable}$ $w - \\text{parameters of the model }$ $ \\lambda - \\text{parameter of regularization}$ "
   ]
  },
  {
   "cell_type": "code",
   "execution_count": 11,
   "metadata": {},
   "outputs": [],
   "source": [
    "def cost_function_L2_penalty(w,X,y,learningRate):\n",
    "    \n",
    "    w = np.matrix(w)\n",
    "    X = np.matrix(X)\n",
    "    y = np.matrix(y)\n",
    "    \n",
    "    lg = np.log(1/(1 + np.exp(-X*w.T)))\n",
    "    \n",
    "    first = np.multiply(-y, lg)\n",
    "    second = np.multiply((1-y), lg)\n",
    "    \n",
    "    penalty = learningRate/(2*len(X))*np.sum(w*w.T)\n",
    "    \n",
    "    return np.sum(first - second)/(len(X)) + penalty"
   ]
  },
  {
   "cell_type": "code",
   "execution_count": 104,
   "metadata": {},
   "outputs": [
    {
     "data": {
      "text/plain": [
       "0.003391684901531729"
      ]
     },
     "execution_count": 104,
     "metadata": {},
     "output_type": "execute_result"
    }
   ],
   "source": [
    "learningRate = 0.1 # LearningRate is alpha = 1 / (n_samples * C)\n",
    "cost_function_L2_penalty(w,X_train1,y_train1,learningRate)"
   ]
  },
  {
   "cell_type": "code",
   "execution_count": 105,
   "metadata": {},
   "outputs": [
    {
     "name": "stdout",
     "output_type": "stream",
     "text": [
      "Warning: Maximum number of iterations has been exceeded.\n",
      "[0.99740871 0.98382111 1.03154298 1.0352815  1.03425103 1.00777605\n",
      " 0.98870541 1.0371062  1.00616981 0.9779672  0.99311712 0.9312597\n",
      " 0.95998774 1.03402172 0.95327126 0.96552775 0.9855948  0.97447227\n",
      " 1.01147925 0.98105309 0.99526063 1.01357562 0.99094533 1.01824129\n",
      " 1.0234979  1.00954558 0.98634959 1.0158313  1.01906068 1.02079928\n",
      " 0.94900147]\n"
     ]
    }
   ],
   "source": [
    "w_new = fmin(func = cost_function_L2_penalty, x0 = w, args=(X_train1,y_train1,learningRate), maxiter=100)\n",
    "print(w_new)"
   ]
  },
  {
   "cell_type": "code",
   "execution_count": 106,
   "metadata": {},
   "outputs": [
    {
     "data": {
      "text/plain": [
       "0.0033793181478710722"
      ]
     },
     "execution_count": 106,
     "metadata": {},
     "output_type": "execute_result"
    }
   ],
   "source": [
    "cost_function_L2_penalty(w_new,X_train1,y_train1,learningRate)"
   ]
  },
  {
   "cell_type": "markdown",
   "metadata": {},
   "source": [
    "$$\\large accuracy(y,\\hat{y}) = {\\frac{1}{n_{samples}} \\sum_{i=0}^{n_{samples}-1}} 1(\\hat{y}_i = y_i)$$ "
   ]
  },
  {
   "cell_type": "code",
   "execution_count": 107,
   "metadata": {},
   "outputs": [],
   "source": [
    "def accuracy(w,X_test,y_test):\n",
    "    n = len(X_test)\n",
    "    z = X_test.dot(w.T)\n",
    "    prediction = 1/(1 + np.exp(-(z)))>= 0.5\n",
    "    \n",
    "    prediction = prediction.reshape(n,1)\n",
    "    correct =  prediction == y_test\n",
    "    accuracy = (np.sum(correct))/n\n",
    "    #print('accuracy {:.3f}'.format(accuracy))\n",
    "    return accuracy"
   ]
  },
  {
   "cell_type": "code",
   "execution_count": 108,
   "metadata": {},
   "outputs": [
    {
     "name": "stdout",
     "output_type": "stream",
     "text": [
      "0.5929978118161926\n",
      "0.7678571428571429\n"
     ]
    }
   ],
   "source": [
    "print(accuracy(w_new, X_train1,y_train1))\n",
    "print(accuracy(w_new, X_test1,y_test1))"
   ]
  }
 ],
 "metadata": {
  "kernelspec": {
   "display_name": "Python 3",
   "language": "python",
   "name": "python3"
  },
  "language_info": {
   "codemirror_mode": {
    "name": "ipython",
    "version": 3
   },
   "file_extension": ".py",
   "mimetype": "text/x-python",
   "name": "python",
   "nbconvert_exporter": "python",
   "pygments_lexer": "ipython3",
   "version": "3.6.8"
  }
 },
 "nbformat": 4,
 "nbformat_minor": 2
}
